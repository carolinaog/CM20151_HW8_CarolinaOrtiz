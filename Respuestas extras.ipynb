{
 "metadata": {
  "name": "",
  "signature": "sha256:f29a1d58df63afe4f84e18c932e6d99d5a56f3092906b5d3b0710f5b31c4458d"
 },
 "nbformat": 3,
 "nbformat_minor": 0,
 "worksheets": [
  {
   "cells": [
    {
     "cell_type": "heading",
     "level": 1,
     "metadata": {},
     "source": [
      "Otras variables para completar la predicci\u00f3n:\n",
      "Lugar y distancia del proveedor al cliente\n",
      "Tipo de producto ordenado\n",
      "\n",
      "D\u00edas en que m\u00e1s se piden: Fines de semana\n",
      "Dias en que menos se piden: principio de semana"
     ]
    }
   ],
   "metadata": {}
  }
 ]
}